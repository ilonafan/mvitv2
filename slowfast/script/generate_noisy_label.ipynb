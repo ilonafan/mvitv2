{
 "cells": [
  {
   "cell_type": "markdown",
   "id": "5f974c1c",
   "metadata": {},
   "source": [
    "### Generate noisy label csv files "
   ]
  },
  {
   "cell_type": "code",
   "execution_count": 2,
   "id": "d0465c44",
   "metadata": {},
   "outputs": [],
   "source": [
    "import numpy as np\n",
    "from pathlib import Path\n",
    "import csv\n",
    "import random"
   ]
  },
  {
   "cell_type": "code",
   "execution_count": 3,
   "id": "5ac3225e",
   "metadata": {},
   "outputs": [],
   "source": [
    "filename = {}\n",
    "sampled_filename = {}\n",
    "files = []\n",
    "\n",
    "for i in range(60):\n",
    "    key = str(\"class\" + str(i))\n",
    "    filename[key] = []\n",
    "    sampled_filename[key] = []\n",
    "    \n",
    "with open('../../ntu60_rgb/train.csv', newline='') as file:\n",
    "    reader = csv.reader(file, delimiter=' ')\n",
    "    for row in reader:\n",
    "        files.append(row[0])\n",
    "        i = int(row[0][18:20])\n",
    "        filename[str(\"class\" + str(i - 1))].append(row[0])"
   ]
  },
  {
   "cell_type": "code",
   "execution_count": 9,
   "id": "175aca1a",
   "metadata": {},
   "outputs": [],
   "source": [
    "for key in filename.keys():\n",
    "    n = round(len(filename[key]) * 0.2) # Change p to 0.3 and 0.4\n",
    "    sampled_filename[key] = random.sample(filename[key], n)"
   ]
  },
  {
   "cell_type": "code",
   "execution_count": 66,
   "id": "e28dea85",
   "metadata": {},
   "outputs": [],
   "source": [
    "with open('./train.csv', 'w', newline='') as file:        \n",
    "    writer = csv.writer(file)\n",
    "    for file in files:\n",
    "        label_id = int(file[18:20]) - 1\n",
    "        for ls in sampled_filename.values():\n",
    "            if file in ls: \n",
    "                label_id = random.choice([i for i in range(60) if i != label_id])\n",
    "        s = \" \".join([file, str(label_id)])\n",
    "        writer.writerow([s])"
   ]
  },
  {
   "cell_type": "markdown",
   "id": "92966c44",
   "metadata": {},
   "source": [
    "### Check the number of noisy labels"
   ]
  },
  {
   "cell_type": "code",
   "execution_count": 5,
   "id": "3816c88f",
   "metadata": {},
   "outputs": [
    {
     "name": "stdout",
     "output_type": "stream",
     "text": [
      "1252\n"
     ]
    }
   ],
   "source": [
    "with open('./train.csv', newline='') as file:\n",
    "    count = 0\n",
    "    reader = csv.reader(file, delimiter=' ')\n",
    "    for row in reader:\n",
    "        label = int(row[0][18:20]) - 1\n",
    "        if label != int(row[1]):\n",
    "            count += 1\n",
    "    print(count)"
   ]
  },
  {
   "cell_type": "markdown",
   "id": "b0fd2306",
   "metadata": {},
   "source": [
    "### Check the number of noisy labels of each class"
   ]
  },
  {
   "cell_type": "code",
   "execution_count": null,
   "id": "4f8aa228",
   "metadata": {},
   "outputs": [],
   "source": [
    "counts = {}\n",
    "for i in range(60):\n",
    "    counts[i] = 0\n",
    "    \n",
    "with open('./train.csv', newline='') as file:\n",
    "    reader = csv.reader(file, delimiter=' ')\n",
    "    for row in reader:\n",
    "        label = int(row[0][18:20]) -1\n",
    "        if label != int(row[1]):\n",
    "            counts[label] += 1\n",
    "\n",
    "for key in counts.keys():\n",
    "    print(len(sampled_filename[\"class\"+str(key)]), counts[key])"
   ]
  }
 ],
 "metadata": {
  "kernelspec": {
   "display_name": "Python 3 (ipykernel)",
   "language": "python",
   "name": "python3"
  },
  "language_info": {
   "codemirror_mode": {
    "name": "ipython",
    "version": 3
   },
   "file_extension": ".py",
   "mimetype": "text/x-python",
   "name": "python",
   "nbconvert_exporter": "python",
   "pygments_lexer": "ipython3",
   "version": "3.8.16"
  }
 },
 "nbformat": 4,
 "nbformat_minor": 5
}
