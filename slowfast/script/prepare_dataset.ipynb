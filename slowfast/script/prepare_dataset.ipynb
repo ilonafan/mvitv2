{
 "cells": [
  {
   "cell_type": "markdown",
   "id": "a0185802-1083-42e5-add3-6e711b03840c",
   "metadata": {},
   "source": [
    "## Prepare video files"
   ]
  },
  {
   "cell_type": "code",
   "execution_count": 5,
   "id": "cfa7480e",
   "metadata": {},
   "outputs": [],
   "source": [
    "import cv2\n",
    "import numpy as np\n",
    "from pathlib import Path\n",
    "# from pathlib import PurePath "
   ]
  },
  {
   "cell_type": "code",
   "execution_count": 22,
   "id": "59fd4133",
   "metadata": {},
   "outputs": [],
   "source": [
    "def generate_resized_video(src_path, dest_dir):\n",
    "    cap = cv2.VideoCapture(str(src_path))\n",
    "    fourcc = cv2.VideoWriter_fourcc(*'XVID')\n",
    "    frac = 256 / 1080\n",
    "    \n",
    "    name = src_path.name\n",
    "    output_file = dest_dir.joinpath(name)\n",
    "\n",
    "    out = cv2.VideoWriter(str(output_file),fourcc, 5, (round(1920*frac), 256))\n",
    "    while True:\n",
    "        ret, frame = cap.read()\n",
    "        if ret == True:\n",
    "            b = cv2.resize(frame, (round(1920*frac), 256), fx=0, fy=0, interpolation = cv2.INTER_CUBIC)\n",
    "            out.write(b)\n",
    "        else:\n",
    "            break\n",
    "    cap.release()\n",
    "    out.release()\n",
    "    cv2.destroyAllWindows()"
   ]
  },
  {
   "cell_type": "code",
   "execution_count": 74,
   "id": "1fa95a0d",
   "metadata": {},
   "outputs": [
    {
     "name": "stdout",
     "output_type": "stream",
     "text": [
      "width, height: 454.0 256.0\n",
      "fps: 5.0\n",
      "frames count: 204.0\n"
     ]
    }
   ],
   "source": [
    "vcap = cv2.VideoCapture('output.avi')\n",
    "\n",
    "if vcap.isOpened(): \n",
    "    width  = vcap.get(cv2.CAP_PROP_FRAME_WIDTH)   # float `width`\n",
    "    height = vcap.get(cv2.CAP_PROP_FRAME_HEIGHT)  # float `height`\n",
    "    print('width, height:', width, height)\n",
    "    \n",
    "    fps = vcap.get(cv2.CAP_PROP_FPS)    \n",
    "    print('fps:', fps)  # float `fps`\n",
    "    \n",
    "    frame_count = vcap.get(cv2.CAP_PROP_FRAME_COUNT)    \n",
    "    print('frames count:', frame_count)  # float `frame_count`\n",
    "    \n",
    "vcap.release()"
   ]
  },
  {
   "cell_type": "markdown",
   "id": "6067a666-4dc6-43c8-83b0-222c0cdeea63",
   "metadata": {},
   "source": [
    "### Resize video files in NTU60"
   ]
  },
  {
   "cell_type": "code",
   "execution_count": null,
   "id": "d292b052",
   "metadata": {},
   "outputs": [],
   "source": [
    "src_dir = Path(\"../../cvhci/data/activity/NTU_RGBD/rgb\")\n",
    "dest_dir = Path(\"./ntu60_rgb\")\n",
    "count = 0\n",
    "\n",
    "for file in src_dir.iterdir():\n",
    "    if file.suffix == '.avi':\n",
    "        class_name = file.stem[17:20]\n",
    "        if int(class_name) <= 60:\n",
    "            generate_resized_video(file, dest_dir)\n",
    "            count += 1 "
   ]
  },
  {
   "cell_type": "code",
   "execution_count": 6,
   "id": "fb908311",
   "metadata": {},
   "outputs": [
    {
     "name": "stdout",
     "output_type": "stream",
     "text": [
      "3887\n"
     ]
    }
   ],
   "source": [
    "from pathlib import Path\n",
    "count = 0\n",
    "for file in Path(\"./ntu60_rgb\").iterdir():\n",
    "    if file.suffix != '.csv' and file.stem[7] == '1':\n",
    "        count+=1\n",
    "print(count)"
   ]
  },
  {
   "cell_type": "markdown",
   "id": "0f3cf775-8979-4c1a-ae01-8fe892b701fc",
   "metadata": {},
   "source": [
    "### Generate csv files for test, val and train dataset"
   ]
  },
  {
   "cell_type": "code",
   "execution_count": 1,
   "id": "f937459e",
   "metadata": {},
   "outputs": [],
   "source": [
    "import csv"
   ]
  },
  {
   "cell_type": "code",
   "execution_count": 5,
   "id": "aa004edc",
   "metadata": {},
   "outputs": [],
   "source": [
    "with open('./ntu60_rgb/test.csv', 'w', newline='') as file:\n",
    "    writer = csv.writer(file)\n",
    "#     field = [\"path\", \"label\"]\n",
    "#     writer.writerow(field)\n",
    "    \n",
    "    for file in Path(\"./ntu60_rgb\").iterdir():\n",
    "        if file.suffix != '.csv' and file.stem != 'S007C001P007R001A049_rgb' and file.stem[7] == '1':\n",
    "            label_id = int(file.stem[18:20]) - 1\n",
    "            s = \" \".join([str(file.name), str(label_id)])\n",
    "            writer.writerow([s])"
   ]
  },
  {
   "cell_type": "code",
   "execution_count": 10,
   "id": "4e64bb75",
   "metadata": {},
   "outputs": [],
   "source": [
    "val_video = []\n",
    "\n",
    "with open('./ntu60_rgb/val.csv', 'w', newline='') as file:\n",
    "    writer = csv.writer(file)\n",
    "#     field = [\"path\", \"label\"]\n",
    "#     writer.writerow(field)\n",
    "    count = 0\n",
    "    \n",
    "    for file in Path(\"./ntu60_rgb\").iterdir():\n",
    "        if file.suffix != '.csv' and file.stem[7] != '1':\n",
    "            s = \" \".join([str(file.name), str(int(file.stem[18:20]) - 1)])\n",
    "            writer.writerow([s])\n",
    "            val_video.append(str(file.name))\n",
    "            count += 1\n",
    "        if count >= 1568:\n",
    "            break"
   ]
  },
  {
   "cell_type": "code",
   "execution_count": 79,
   "id": "47506e92",
   "metadata": {},
   "outputs": [
    {
     "data": {
      "text/plain": [
       "1568"
      ]
     },
     "execution_count": 79,
     "metadata": {},
     "output_type": "execute_result"
    }
   ],
   "source": [
    "len(val_video)"
   ]
  },
  {
   "cell_type": "code",
   "execution_count": 12,
   "id": "626daa57",
   "metadata": {},
   "outputs": [],
   "source": [
    "with open('./ntu60_rgb/train.csv', 'w', newline='') as file:\n",
    "    count = 0\n",
    "    writer = csv.writer(file)\n",
    "#     field = [\"path\", \"label\"]\n",
    "#     writer.writerow(field)\n",
    "    \n",
    "    for file in Path(\"./ntu60_rgb\").iterdir():\n",
    "        if file.suffix != '.csv' and file.stem[7] != '1' and str(file.name) not in val_video:\n",
    "            s = \" \".join([str(file.name), str(int(file.stem[18:20]) - 1)])\n",
    "            writer.writerow([s])\n",
    "            count +=1"
   ]
  },
  {
   "cell_type": "code",
   "execution_count": 81,
   "id": "55cd7ea2",
   "metadata": {},
   "outputs": [
    {
     "data": {
      "text/plain": [
       "6272"
      ]
     },
     "execution_count": 81,
     "metadata": {},
     "output_type": "execute_result"
    }
   ],
   "source": [
    "count"
   ]
  },
  {
   "cell_type": "markdown",
   "id": "e3cf6fb0",
   "metadata": {},
   "source": [
    "### Generate noisy label csv files of normal case based on csv files for video dataset"
   ]
  },
  {
   "cell_type": "code",
   "execution_count": 2,
   "id": "44d75a70",
   "metadata": {},
   "outputs": [
    {
     "name": "stdout",
     "output_type": "stream",
     "text": [
      "/home/prgc/mvitv2/noisy_label_20\n"
     ]
    }
   ],
   "source": [
    "cd '~/mvitv2/noisy_label_20'"
   ]
  },
  {
   "cell_type": "code",
   "execution_count": 3,
   "id": "840c435f",
   "metadata": {},
   "outputs": [],
   "source": [
    "rows = []\n",
    "    \n",
    "with open('./train.csv', newline='') as file:\n",
    "    reader = csv.reader(file, delimiter=' ')\n",
    "    for row in reader:\n",
    "        s = \" \".join([row[0], str(int(row[1]) + 1)])\n",
    "        rows.append(s)"
   ]
  },
  {
   "cell_type": "code",
   "execution_count": 4,
   "id": "94436e39",
   "metadata": {},
   "outputs": [],
   "source": [
    "with open('../../ntu60_noise/noisy_train_20.csv', 'w', newline='') as file:        \n",
    "    writer = csv.writer(file)\n",
    "    for row in rows:\n",
    "        writer.writerow([row])"
   ]
  },
  {
   "cell_type": "code",
   "execution_count": 5,
   "id": "7cbe36b4",
   "metadata": {},
   "outputs": [
    {
     "name": "stdout",
     "output_type": "stream",
     "text": [
      "1252\n"
     ]
    }
   ],
   "source": [
    "with open('../../ntu60_noise/noisy_train_20.csv', newline='') as file:\n",
    "    count = 0\n",
    "    reader = csv.reader(file, delimiter=' ')\n",
    "    for row in reader:\n",
    "        label = int(row[0][18:20])\n",
    "        if label != int(row[1]):\n",
    "            count += 1\n",
    "    print(count)"
   ]
  }
 ],
 "metadata": {
  "kernelspec": {
   "display_name": "Python 3 (ipykernel)",
   "language": "python",
   "name": "python3"
  },
  "language_info": {
   "codemirror_mode": {
    "name": "ipython",
    "version": 3
   },
   "file_extension": ".py",
   "mimetype": "text/x-python",
   "name": "python",
   "nbconvert_exporter": "python",
   "pygments_lexer": "ipython3",
   "version": "3.8.16"
  }
 },
 "nbformat": 4,
 "nbformat_minor": 5
}
